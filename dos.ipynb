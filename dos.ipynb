{
 "cells": [
  {
   "cell_type": "code",
   "execution_count": 6,
   "metadata": {},
   "outputs": [
    {
     "name": "stdout",
     "output_type": "stream",
     "text": [
      "The Degree of Freedom of the robot that you gave is :2\n"
     ]
    }
   ],
   "source": [
    "plane = input(\"Is it a planar or spatial ?\").lower()\n",
    "jointtype = input(\"Tell what joint is being used (revolute, prismatic, cylindrical, spherical)\").lower()\n",
    "joints = int(input(\"Give the number of joints used ?\"))\n",
    "link = int(input(\"Give the number of links used ?\"))\n",
    "\n",
    "if plane == 'planar':lambd = 3\n",
    "else : lambd = 6\n",
    "if jointtype == 'revolute' or 'prismatic':jointtype = 1\n",
    "elif jointtype == 'cylindrical ':jointtype = 2\n",
    "else: jointtype = 3\n",
    "\n",
    "suma = 0\n",
    "for i in range(1,joints+1):\n",
    "    suma += (lambd- jointtype)\n",
    "\n",
    "dof = lambd*(link-1)-suma\n",
    "print(f'The Degree of Freedom of the robot that you gave is :{dof}')"
   ]
  },
  {
   "cell_type": "code",
   "execution_count": 7,
   "metadata": {},
   "outputs": [
    {
     "name": "stdout",
     "output_type": "stream",
     "text": [
      "The Degree of Freedom of the robot that you gave is: 2\n"
     ]
    }
   ],
   "source": [
    "plane = input(\"Is it a planar or spatial? \").lower()\n",
    "jointtype = input(\"Tell what joint is being used (revolute, prismatic, cylindrical, spherical) \").lower()\n",
    "joints = int(input(\"Give the number of joints used? \"))\n",
    "link = int(input(\"Give the number of links used? \"))\n",
    "\n",
    "lambd = 3 if plane == 'planar' else 6\n",
    "\n",
    "joint_type_dict = {'revolute': 1, 'prismatic': 1, 'cylindrical': 2, 'spherical': 3}\n",
    "jointtype = joint_type_dict.get(jointtype, 3)\n",
    "\n",
    "suma = sum(lambd - jointtype for i in range(joints))\n",
    "dof = lambd * (link - 1) - suma\n",
    "\n",
    "print(f'The Degree of Freedom of the robot that you gave is: {dof}')\n"
   ]
  },
  {
   "cell_type": "code",
   "execution_count": null,
   "metadata": {},
   "outputs": [],
   "source": []
  }
 ],
 "metadata": {
  "kernelspec": {
   "display_name": "Python 3",
   "language": "python",
   "name": "python3"
  },
  "language_info": {
   "codemirror_mode": {
    "name": "ipython",
    "version": 3
   },
   "file_extension": ".py",
   "mimetype": "text/x-python",
   "name": "python",
   "nbconvert_exporter": "python",
   "pygments_lexer": "ipython3",
   "version": "3.11.1"
  }
 },
 "nbformat": 4,
 "nbformat_minor": 2
}
